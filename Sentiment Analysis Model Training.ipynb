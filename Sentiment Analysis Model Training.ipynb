{
 "cells": [
  {
   "cell_type": "code",
   "execution_count": 1,
   "id": "90649efc-71f1-444e-b1bb-ac43f789bb3c",
   "metadata": {},
   "outputs": [],
   "source": [
    "import pandas as pd\n",
    "import matplotlib.pyplot as plt\n",
    "import numpy as np\n",
    "import seaborn as sns\n"
   ]
  },
  {
   "cell_type": "code",
   "execution_count": 2,
   "id": "ec651596-38fa-49cf-9fce-771871656faf",
   "metadata": {},
   "outputs": [],
   "source": [
    "gold_data = pd.read_csv('gold-fixed.csv')"
   ]
  },
  {
   "cell_type": "code",
   "execution_count": 3,
   "id": "11aa1456-405e-46d0-ae05-ec38f00bc45e",
   "metadata": {},
   "outputs": [
    {
     "data": {
      "text/html": [
       "<div>\n",
       "<style scoped>\n",
       "    .dataframe tbody tr th:only-of-type {\n",
       "        vertical-align: middle;\n",
       "    }\n",
       "\n",
       "    .dataframe tbody tr th {\n",
       "        vertical-align: top;\n",
       "    }\n",
       "\n",
       "    .dataframe thead th {\n",
       "        text-align: right;\n",
       "    }\n",
       "</style>\n",
       "<table border=\"1\" class=\"dataframe\">\n",
       "  <thead>\n",
       "    <tr style=\"text-align: right;\">\n",
       "      <th></th>\n",
       "      <th>Dates</th>\n",
       "      <th>URL</th>\n",
       "      <th>News</th>\n",
       "      <th>Price Direction Up</th>\n",
       "      <th>Price Direction Constant</th>\n",
       "      <th>Price Direction Down</th>\n",
       "      <th>Asset Comparision</th>\n",
       "      <th>Past Information</th>\n",
       "      <th>Future Information</th>\n",
       "      <th>Price Sentiment</th>\n",
       "    </tr>\n",
       "  </thead>\n",
       "  <tbody>\n",
       "    <tr>\n",
       "      <th>0</th>\n",
       "      <td>2000-02-15</td>\n",
       "      <td>http://www.marketwatch.com/story/thom-calandra...</td>\n",
       "      <td>gold is poised for greatness</td>\n",
       "      <td>1</td>\n",
       "      <td>0</td>\n",
       "      <td>0</td>\n",
       "      <td>0</td>\n",
       "      <td>1</td>\n",
       "      <td>0</td>\n",
       "      <td>positive</td>\n",
       "    </tr>\n",
       "    <tr>\n",
       "      <th>1</th>\n",
       "      <td>2000-02-17</td>\n",
       "      <td>http://www.marketwatch.com/story/gold-falls-on...</td>\n",
       "      <td>gold falls on technical pull back</td>\n",
       "      <td>0</td>\n",
       "      <td>0</td>\n",
       "      <td>1</td>\n",
       "      <td>0</td>\n",
       "      <td>1</td>\n",
       "      <td>0</td>\n",
       "      <td>negative</td>\n",
       "    </tr>\n",
       "    <tr>\n",
       "      <th>2</th>\n",
       "      <td>2000-03-24</td>\n",
       "      <td>http://www.marketwatch.com/story/gold-quiet-on...</td>\n",
       "      <td>gold quiet on lack of market news</td>\n",
       "      <td>0</td>\n",
       "      <td>1</td>\n",
       "      <td>0</td>\n",
       "      <td>0</td>\n",
       "      <td>1</td>\n",
       "      <td>0</td>\n",
       "      <td>neutral</td>\n",
       "    </tr>\n",
       "    <tr>\n",
       "      <th>3</th>\n",
       "      <td>2000-04-27</td>\n",
       "      <td>http://www.marketwatch.com/story/gold-futures-...</td>\n",
       "      <td>gold futures steady as index climbs</td>\n",
       "      <td>0</td>\n",
       "      <td>1</td>\n",
       "      <td>0</td>\n",
       "      <td>0</td>\n",
       "      <td>1</td>\n",
       "      <td>0</td>\n",
       "      <td>neutral</td>\n",
       "    </tr>\n",
       "    <tr>\n",
       "      <th>4</th>\n",
       "      <td>2000-05-04</td>\n",
       "      <td>http://www.marketwatch.com/story/gold-and-silv...</td>\n",
       "      <td>gold and silver stocks in relief rally</td>\n",
       "      <td>1</td>\n",
       "      <td>0</td>\n",
       "      <td>0</td>\n",
       "      <td>1</td>\n",
       "      <td>1</td>\n",
       "      <td>0</td>\n",
       "      <td>positive</td>\n",
       "    </tr>\n",
       "  </tbody>\n",
       "</table>\n",
       "</div>"
      ],
      "text/plain": [
       "        Dates                                                URL  \\\n",
       "0  2000-02-15  http://www.marketwatch.com/story/thom-calandra...   \n",
       "1  2000-02-17  http://www.marketwatch.com/story/gold-falls-on...   \n",
       "2  2000-03-24  http://www.marketwatch.com/story/gold-quiet-on...   \n",
       "3  2000-04-27  http://www.marketwatch.com/story/gold-futures-...   \n",
       "4  2000-05-04  http://www.marketwatch.com/story/gold-and-silv...   \n",
       "\n",
       "                                     News  Price Direction Up  \\\n",
       "0            gold is poised for greatness                   1   \n",
       "1       gold falls on technical pull back                   0   \n",
       "2       gold quiet on lack of market news                   0   \n",
       "3     gold futures steady as index climbs                   0   \n",
       "4  gold and silver stocks in relief rally                   1   \n",
       "\n",
       "   Price Direction Constant  Price Direction Down  Asset Comparision  \\\n",
       "0                         0                     0                  0   \n",
       "1                         0                     1                  0   \n",
       "2                         1                     0                  0   \n",
       "3                         1                     0                  0   \n",
       "4                         0                     0                  1   \n",
       "\n",
       "   Past Information  Future Information Price Sentiment  \n",
       "0                 1                   0        positive  \n",
       "1                 1                   0        negative  \n",
       "2                 1                   0         neutral  \n",
       "3                 1                   0         neutral  \n",
       "4                 1                   0        positive  "
      ]
     },
     "execution_count": 3,
     "metadata": {},
     "output_type": "execute_result"
    }
   ],
   "source": [
    "gold_data.head()\n"
   ]
  },
  {
   "cell_type": "code",
   "execution_count": 4,
   "id": "7be3e834-1b9b-44c3-b9e0-84db5630b1c1",
   "metadata": {},
   "outputs": [],
   "source": [
    "gold_data = gold_data.drop('URL', axis=1)"
   ]
  },
  {
   "cell_type": "code",
   "execution_count": 5,
   "id": "7d674efe-ff60-44af-800a-fd6c61e2c07e",
   "metadata": {},
   "outputs": [],
   "source": [
    "from sklearn.feature_extraction.text import CountVectorizer\n",
    "from sklearn.ensemble import RandomForestClassifier\n",
    "from sklearn.model_selection import train_test_split\n",
    "from sklearn.metrics import accuracy_score, classification_report\n",
    "from scipy.sparse import hstack"
   ]
  },
  {
   "cell_type": "code",
   "execution_count": 6,
   "id": "c920d4fa-fbb6-4925-8b7a-dd0a0a0c47ac",
   "metadata": {},
   "outputs": [],
   "source": [
    "features = gold_data['News']\n",
    "target = gold_data['Price Sentiment']"
   ]
  },
  {
   "cell_type": "code",
   "execution_count": 7,
   "id": "0de78c78-c744-43ad-b11b-d06cd86563e1",
   "metadata": {},
   "outputs": [],
   "source": [
    "X_train, X_test, y_train, y_test = train_test_split(features, target, test_size=0.3, random_state=42)"
   ]
  },
  {
   "cell_type": "code",
   "execution_count": 9,
   "id": "87b7141c-b164-464d-8543-d26dc1067f70",
   "metadata": {},
   "outputs": [],
   "source": [
    "vectorizer = CountVectorizer()"
   ]
  },
  {
   "cell_type": "code",
   "execution_count": 10,
   "id": "a0350a8b-eacc-434f-9dbb-b3b44da6fb78",
   "metadata": {},
   "outputs": [],
   "source": [
    "X_train_vectorized = vectorizer.fit_transform(X_train)"
   ]
  },
  {
   "cell_type": "code",
   "execution_count": 11,
   "id": "90ed8ba6-5ca3-4187-9c85-78ecffbc6053",
   "metadata": {},
   "outputs": [],
   "source": [
    "X_test_vectorized = vectorizer.transform(X_test)"
   ]
  },
  {
   "cell_type": "code",
   "execution_count": 12,
   "id": "6030b58d-b791-4ead-a1ca-b5a7a7307b41",
   "metadata": {},
   "outputs": [],
   "source": [
    "rf_model = RandomForestClassifier()"
   ]
  },
  {
   "cell_type": "code",
   "execution_count": 64,
   "id": "efe772dc-b104-4f18-91fe-4e14a421a5fc",
   "metadata": {},
   "outputs": [
    {
     "name": "stdout",
     "output_type": "stream",
     "text": [
      "Max Depth: 2, Min Samples Split: 2, Min Samples Leaf: 1\n",
      "Training Accuracy: 0.43309806277218804\n",
      "Validation Accuracy: 0.44144144144144143\n",
      "\n",
      "Max Depth: 3, Min Samples Split: 2, Min Samples Leaf: 1\n",
      "Training Accuracy: 0.45922811232917854\n",
      "Validation Accuracy: 0.4678678678678679\n",
      "\n",
      "Max Depth: 4, Min Samples Split: 2, Min Samples Leaf: 1\n",
      "Training Accuracy: 0.5892776693197177\n",
      "Validation Accuracy: 0.5915915915915916\n",
      "\n",
      "Max Depth: 5, Min Samples Split: 2, Min Samples Leaf: 1\n",
      "Training Accuracy: 0.645442258597387\n",
      "Validation Accuracy: 0.6522522522522523\n",
      "\n",
      "Max Depth: 6, Min Samples Split: 2, Min Samples Leaf: 1\n",
      "Training Accuracy: 0.6329779246133053\n",
      "Validation Accuracy: 0.63003003003003\n",
      "\n",
      "Max Depth: 7, Min Samples Split: 2, Min Samples Leaf: 1\n",
      "Training Accuracy: 0.670220753866947\n",
      "Validation Accuracy: 0.6744744744744745\n",
      "\n",
      "Max Depth: 8, Min Samples Split: 2, Min Samples Leaf: 1\n",
      "Training Accuracy: 0.6981528758071782\n",
      "Validation Accuracy: 0.7099099099099099\n",
      "\n",
      "Max Depth: 9, Min Samples Split: 2, Min Samples Leaf: 1\n",
      "Training Accuracy: 0.7137708364619312\n",
      "Validation Accuracy: 0.7207207207207207\n",
      "\n",
      "Max Depth: 10, Min Samples Split: 2, Min Samples Leaf: 1\n",
      "Training Accuracy: 0.7307403514041148\n",
      "Validation Accuracy: 0.7255255255255255\n",
      "\n",
      "Max Depth: 11, Min Samples Split: 2, Min Samples Leaf: 1\n",
      "Training Accuracy: 0.7341943234719928\n",
      "Validation Accuracy: 0.7327327327327328\n",
      "\n",
      "Max Depth: 12, Min Samples Split: 2, Min Samples Leaf: 1\n",
      "Training Accuracy: 0.7341943234719928\n",
      "Validation Accuracy: 0.7363363363363363\n",
      "\n",
      "Max Depth: 13, Min Samples Split: 2, Min Samples Leaf: 1\n",
      "Training Accuracy: 0.7489112479351254\n",
      "Validation Accuracy: 0.7453453453453454\n",
      "\n",
      "Max Depth: 14, Min Samples Split: 2, Min Samples Leaf: 1\n",
      "Training Accuracy: 0.7739900886018922\n",
      "Validation Accuracy: 0.7753753753753754\n",
      "\n",
      "Max Depth: 15, Min Samples Split: 2, Min Samples Leaf: 1\n",
      "Training Accuracy: 0.7894578765580418\n",
      "Validation Accuracy: 0.790990990990991\n",
      "\n",
      "Max Depth: 16, Min Samples Split: 2, Min Samples Leaf: 1\n",
      "Training Accuracy: 0.7873554587775943\n",
      "Validation Accuracy: 0.7891891891891892\n",
      "\n",
      "Max Depth: 17, Min Samples Split: 2, Min Samples Leaf: 1\n",
      "Training Accuracy: 0.7947139210091605\n",
      "Validation Accuracy: 0.784984984984985\n",
      "\n",
      "Max Depth: 18, Min Samples Split: 2, Min Samples Leaf: 1\n",
      "Training Accuracy: 0.8005706562546929\n",
      "Validation Accuracy: 0.7963963963963964\n",
      "\n",
      "Max Depth: 19, Min Samples Split: 2, Min Samples Leaf: 1\n",
      "Training Accuracy: 0.818891725484307\n",
      "Validation Accuracy: 0.8162162162162162\n",
      "\n",
      "Max Depth: 20, Min Samples Split: 2, Min Samples Leaf: 1\n",
      "Training Accuracy: 0.8277519147019072\n",
      "Validation Accuracy: 0.8300300300300301\n",
      "\n",
      "Max Depth: 21, Min Samples Split: 2, Min Samples Leaf: 1\n",
      "Training Accuracy: 0.8321069229614056\n",
      "Validation Accuracy: 0.8246246246246246\n",
      "\n",
      "Max Depth: 22, Min Samples Split: 2, Min Samples Leaf: 1\n",
      "Training Accuracy: 0.842168493767833\n",
      "Validation Accuracy: 0.8414414414414414\n",
      "\n",
      "Max Depth: 23, Min Samples Split: 2, Min Samples Leaf: 1\n",
      "Training Accuracy: 0.84291935726085\n",
      "Validation Accuracy: 0.8474474474474475\n",
      "\n",
      "Max Depth: 24, Min Samples Split: 2, Min Samples Leaf: 1\n",
      "Training Accuracy: 0.8576362817239825\n",
      "Validation Accuracy: 0.8588588588588588\n",
      "\n",
      "Max Depth: 25, Min Samples Split: 2, Min Samples Leaf: 1\n",
      "Training Accuracy: 0.8598888722030334\n",
      "Validation Accuracy: 0.8624624624624625\n",
      "\n"
     ]
    }
   ],
   "source": [
    "from sklearn.model_selection import train_test_split\n",
    "from sklearn.ensemble import RandomForestClassifier\n",
    "from sklearn.metrics import accuracy_score\n",
    "from sklearn.feature_extraction.text import CountVectorizer\n",
    "import numpy as np\n",
    "\n",
    "# Initialize the CountVectorizer\n",
    "vectorizer = CountVectorizer(max_features=5000)  # You can adjust max_features as needed\n",
    "\n",
    "# Fit and transform the text data\n",
    "X = vectorizer.fit_transform(features)\n",
    "\n",
    "# Split the data into training and testing sets (80-20 split)\n",
    "X_train, X_test, y_train, y_test = train_test_split(X, target, test_size=0.2, random_state=42)\n",
    "\n",
    "# Split the training data further into training and validation sets (80-20 split)\n",
    "X_train, X_valid, y_train, y_valid = train_test_split(X_train, y_train, test_size=0.2, random_state=42)\n",
    "\n",
    "# Initialize lists to store training and testing accuracies\n",
    "train_accuracies = []\n",
    "test_accuracies = []\n",
    "\n",
    "max_depth_values = [2,3,4,5,6,7,8,9,10,11,12,13,14,15,16,17,18,19,20,21,22,23,24,25]\n",
    "min_samples_split_values = [2]\n",
    "min_samples_leaf_values = [1]\n",
    "\n",
    "for max_depth in max_depth_values:\n",
    "    for min_samples_split in min_samples_split_values:\n",
    "        for min_samples_leaf in min_samples_leaf_values:\n",
    "            # Initialize and train the Random Forest model with the current hyperparameters\n",
    "            rf_model = RandomForestClassifier(max_depth=max_depth, min_samples_split=min_samples_split, min_samples_leaf=min_samples_leaf, n_estimators=100)\n",
    "            \n",
    "            # Concatenate training and validation data\n",
    "            X_train_valid = np.concatenate((X_train.toarray(), X_valid.toarray()), axis=0)\n",
    "            y_train_valid = np.concatenate((y_train, y_valid), axis=0)\n",
    "            \n",
    "            # Train the model on concatenated data\n",
    "            rf_model.fit(X_train_valid, y_train_valid)\n",
    "            \n",
    "            # Calculate accuracy on validation set\n",
    "            y_valid_pred = rf_model.predict(X_valid)\n",
    "            valid_accuracy = accuracy_score(y_valid, y_valid_pred)\n",
    "            \n",
    "            # Calculate accuracy on training set\n",
    "            y_train_pred = rf_model.predict(X_train)\n",
    "            train_accuracy = accuracy_score(y_train, y_train_pred)\n",
    "            \n",
    "            # Append accuracies to the lists\n",
    "            train_accuracies.append(train_accuracy)\n",
    "            test_accuracies.append(valid_accuracy)\n",
    "            \n",
    "            print(f\"Max Depth: {max_depth}, Min Samples Split: {min_samples_split}, Min Samples Leaf: {min_samples_leaf}\")\n",
    "            print(\"Training Accuracy:\", train_accuracy)\n",
    "            print(\"Validation Accuracy:\", valid_accuracy)\n",
    "            print()\n"
   ]
  },
  {
   "cell_type": "code",
   "execution_count": null,
   "id": "72c50400-4d64-4b04-808e-be5f8fb34139",
   "metadata": {},
   "outputs": [],
   "source": []
  },
  {
   "cell_type": "code",
   "execution_count": 71,
   "id": "ff34a859-df78-4c41-ade6-cbf590c19dd2",
   "metadata": {},
   "outputs": [
    {
     "data": {
      "image/png": "[encoded data removed]",
      "text/plain": [
       "<Figure size 600x400 with 1 Axes>"
      ]
     },
     "metadata": {},
     "output_type": "display_data"
    }
   ],
   "source": [
    "import matplotlib.pyplot as plt\n",
    "\n",
    "# Define the number of epochs\n",
    "epochs = range(1, len(train_accuracies) + 1)\n",
    "# Plot the train_accuracies and test_accuracies\n",
    "\n",
    "plt.figure(figsize=(6, 4))\n",
    "plt.plot(epochs, train_accuracies, marker='o', label='Train Accuracy')\n",
    "plt.plot(epochs, test_accuracies, marker='o', label='Validation Accuracy')\n",
    "plt.xlabel('Hyperparameter Combinations')\n",
    "plt.ylabel('Accuracy')\n",
    "plt.title('Training and Validation Accuracy')\n",
    "plt.legend()\n",
    "plt.grid(True)\n",
    "plt.savefig(\"training_validation_accuracy.svg\")  # Save the plot as an image file\n",
    "plt.show()\n"
   ]
  },
  {
   "cell_type": "code",
   "execution_count": 67,
   "id": "72ed9c6b-85f3-4762-8ff6-808e93609cf7",
   "metadata": {},
   "outputs": [
    {
     "name": "stdout",
     "output_type": "stream",
     "text": [
      "Classification Report for Model with Last Hyperparameters:\n",
      "Max Depth: 25, Min Samples Split: 2, Min Samples Leaf: 1\n",
      "\n",
      "              precision    recall  f1-score   support\n",
      "\n",
      "    negative       0.99      0.94      0.96       600\n",
      "     neutral       1.00      0.27      0.43        62\n",
      "        none       0.98      0.51      0.67       302\n",
      "    positive       0.76      1.00      0.86       701\n",
      "\n",
      "    accuracy                           0.86      1665\n",
      "   macro avg       0.93      0.68      0.73      1665\n",
      "weighted avg       0.89      0.86      0.85      1665\n",
      "\n"
     ]
    }
   ],
   "source": [
    "from sklearn.metrics import classification_report\n",
    "\n",
    "# Set the hyperparameters to the last values in the lists\n",
    "max_depth = max_depth_values[-1]\n",
    "min_samples_split = 2\n",
    "min_samples_leaf = 1\n",
    "\n",
    "print(f\"Classification Report for Model with Last Hyperparameters:\")\n",
    "print(f\"Max Depth: {max_depth}, Min Samples Split: {min_samples_split}, Min Samples Leaf: {min_samples_leaf}\\n\")\n",
    "\n",
    "rf_model.set_params(max_depth=max_depth, min_samples_split=min_samples_split, min_samples_leaf=min_samples_leaf, n_estimators=100)\n",
    "\n",
    "rf_model.fit(X_train_valid, y_train_valid)\n",
    "\n",
    "y_valid_pred = rf_model.predict(X_valid)\n",
    "\n",
    "print(classification_report(y_valid, y_valid_pred))\n"
   ]
  },
  {
   "cell_type": "code",
   "execution_count": 88,
   "id": "2f0a10cd-5652-4e28-82cb-cd767b14cbc3",
   "metadata": {},
   "outputs": [
    {
     "name": "stdout",
     "output_type": "stream",
     "text": [
      "Accuracy: 0.8606606606606607\n"
     ]
    }
   ],
   "source": [
    "\n",
    "print(\"Accuracy:\", accuracy_score(y_valid, y_valid_pred))\n"
   ]
  },
  {
   "cell_type": "code",
   "execution_count": 2,
   "id": "93e5adea-55af-4250-8796-840f793c926c",
   "metadata": {},
   "outputs": [
    {
     "data": {
      "image/png": "[encoded data removed]",
      "text/plain": [
       "<Figure size 500x400 with 1 Axes>"
      ]
     },
     "metadata": {},
     "output_type": "display_data"
    }
   ],
   "source": [
    "import matplotlib.pyplot as plt\n",
    "import numpy as np\n",
    "\n",
    "precision = [0.99, 0.99, 0.98, 0.76]\n",
    "recall = [0.94, 0.27, 0.51, 0.96]\n",
    "f1_score = [0.96, 0.43, 0.67, 0.86]\n",
    "\n",
    "classes = ['Negative', 'Neutral', 'None', 'Positive']\n",
    "\n",
    "bar_width = 0.3\n",
    "\n",
    "index = np.arange(len(classes))\n",
    "\n",
    "plt.figure(figsize=(5, 4))  # Adjust figure size as needed\n",
    "plt.bar(index - bar_width, precision, bar_width, label='Precision')\n",
    "plt.bar(index, recall, bar_width, label='Recall')\n",
    "plt.bar(index + bar_width, f1_score, bar_width, label='F1-score')\n",
    "\n",
    "plt.xlabel('Classes')\n",
    "plt.ylabel('Score')\n",
    "plt.title('Precision, Recall, and F1-score by Class')\n",
    "plt.xticks(index, classes)  # Use xticks to label classes on x-axis\n",
    "plt.legend()\n",
    "\n",
    "plt.tight_layout()\n",
    "plt.savefig(\"figure.svg\")\n",
    "plt.show()\n"
   ]
  },
  {
   "cell_type": "code",
   "execution_count": null,
   "id": "75bdc092-a8e5-4b67-937c-7cc29b272404",
   "metadata": {},
   "outputs": [],
   "source": []
  }
 ],
 "metadata": {
  "kernelspec": {
   "display_name": "Python 3 (ipykernel)",
   "language": "python",
   "name": "python3"
  },
  "language_info": {
   "codemirror_mode": {
    "name": "ipython",
    "version": 3
   },
   "file_extension": ".py",
   "mimetype": "text/x-python",
   "name": "python",
   "nbconvert_exporter": "python",
   "pygments_lexer": "ipython3",
   "version": "3.11.4"
  }
 },
 "nbformat": 4,
 "nbformat_minor": 5
}
